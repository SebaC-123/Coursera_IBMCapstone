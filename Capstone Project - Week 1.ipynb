{
 "cells": [
  {
   "cell_type": "markdown",
   "metadata": {
    "collapsed": true
   },
   "source": [
    "#  Coursera Capstone Project"
   ]
  },
  {
   "cell_type": "markdown",
   "metadata": {},
   "source": [
    "## *IBM Applied Data Science Capstone*"
   ]
  },
  {
   "cell_type": "markdown",
   "metadata": {},
   "source": [
    "###  Opening a new restaurant in Ciudad Autonoma of Buenos Aires, Argentina"
   ]
  },
  {
   "cell_type": "markdown",
   "metadata": {},
   "source": [
    "***"
   ]
  },
  {
   "cell_type": "markdown",
   "metadata": {},
   "source": [
    "By: Sebastian Casali"
   ]
  },
  {
   "cell_type": "markdown",
   "metadata": {},
   "source": [
    "<img src=http://www.telam.com.ar/advf/imagenes/2017/05/590c4b90da960_645x362.jpg>\n"
   ]
  },
  {
   "cell_type": "markdown",
   "metadata": {},
   "source": [
    "# Introduction"
   ]
  },
  {
   "cell_type": "markdown",
   "metadata": {},
   "source": [
    "For many people, food occupies an important place in the daily routine, more than anything on weekends. What better place to have a restaurant than in a world gastronomic center like the Autonomous City of Buenos Aires. As the Gastronomic Capital of Ibero-America 2017, Buenos Aires has a proposal of inexhaustible cuisine and gastronomic poles to taste the best recipes. A warm stew, a delicious barbecue or a delicious hot chocolate with churros are options to regain energy after a day full of activities on this winter vacation. It is not only the capital of Argentina, but it is one of the largest cities in South America due to the concentration of inhabitants it has."
   ]
  },
  {
   "cell_type": "markdown",
   "metadata": {},
   "source": [
    "***"
   ]
  },
  {
   "cell_type": "markdown",
   "metadata": {},
   "source": [
    "# Problem"
   ]
  },
  {
   "cell_type": "markdown",
   "metadata": {},
   "source": [
    "The objective of this Capstone Project is to analyze the different areas within the Autonomous City of Buenos Aires, in order to see where there is more concentration of clients and competition in the market. It is also intended to analyze the different gastronomic items in the areas, in order to be able to select a business that has a comparative advantage over the rest. In other words, the problem will be selecting a good location and a strategic restaurant item."
   ]
  },
  {
   "cell_type": "markdown",
   "metadata": {},
   "source": [
    "***"
   ]
  },
  {
   "cell_type": "markdown",
   "metadata": {},
   "source": [
    "## Target Audience From This Project"
   ]
  },
  {
   "cell_type": "markdown",
   "metadata": {},
   "source": [
    "This project is suitable for investors and entrepreneurs in the gastronomic field. Being such a large and recognized city in the world, it is a strategic point for restaurants due to the large number of tourists who visit it, and the high level of gastronomy in Argentines is an attraction known to all, mixing both Italian and Spanish culinary traits. "
   ]
  },
  {
   "cell_type": "markdown",
   "metadata": {},
   "source": [
    "***"
   ]
  },
  {
   "cell_type": "markdown",
   "metadata": {},
   "source": [
    "## Data"
   ]
  },
  {
   "cell_type": "markdown",
   "metadata": {},
   "source": [
    "#### To solve this problem, we will need the following data:"
   ]
  },
  {
   "cell_type": "markdown",
   "metadata": {},
   "source": [
    "1. List of neighborhoods in Buenos Aires. This defines the scope of this project which is confined to the Ciudad Autonoma de Buenos Aires.\n",
    "2. Latitude and Longitude cordinates of those neighborhoods. This is required in order to plot the map and also get the venue data.\n",
    "3. Venue data, particularly data related to restaurants. We will use this data to perform clustering on neighborhoods."
   ]
  },
  {
   "cell_type": "markdown",
   "metadata": {},
   "source": [
    "#### Sources of data and methods to extract them:"
   ]
  },
  {
   "cell_type": "markdown",
   "metadata": {},
   "source": [
    "We will use Wikipedia for extracting a list of neighborhoods from Buenos Aires, which has more than 50 of them. We will use Web Scraping techniques with the help ph Python request and beautifulsoup package. Then we will get the geographical coordinates of the neighborhoods using Python Geocoder package which will give us the latitude and longitude coordinates from the neighborhoods.\n",
    "After that, we will use Foursquare API to get the venue data from those neighborhoods. Foursquare has one of the largest database of 105+ million places and is used by over 150,000 developers. Foursquare API will provide many categories of the venue data, we are particularly interested in the restaurants information. In this project, we will use many data science skills likeweb scraping, working with API, data cleaning, data wrangling, clustering and map visualization."
   ]
  },
  {
   "cell_type": "code",
   "execution_count": null,
   "metadata": {},
   "outputs": [],
   "source": []
  }
 ],
 "metadata": {
  "kernelspec": {
   "display_name": "Python 3.6",
   "language": "python",
   "name": "python3"
  },
  "language_info": {
   "codemirror_mode": {
    "name": "ipython",
    "version": 3
   },
   "file_extension": ".py",
   "mimetype": "text/x-python",
   "name": "python",
   "nbconvert_exporter": "python",
   "pygments_lexer": "ipython3",
   "version": "3.6.9"
  }
 },
 "nbformat": 4,
 "nbformat_minor": 1
}
